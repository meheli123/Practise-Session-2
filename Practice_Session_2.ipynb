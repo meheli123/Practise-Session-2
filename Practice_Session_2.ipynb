{
  "nbformat": 4,
  "nbformat_minor": 0,
  "metadata": {
    "colab": {
      "name": "Practice Session 2.ipynb",
      "provenance": []
    },
    "kernelspec": {
      "name": "python3",
      "display_name": "Python 3"
    },
    "language_info": {
      "name": "python"
    }
  },
  "cells": [
    {
      "cell_type": "markdown",
      "metadata": {
        "id": "51eUJ5RWVn8h"
      },
      "source": [
        "Odd or Even Number\n",
        "\n"
      ]
    },
    {
      "cell_type": "code",
      "metadata": {
        "colab": {
          "base_uri": "https://localhost:8080/"
        },
        "id": "gyo5tcO1BSdR",
        "outputId": "a0dfa90b-14ed-41e1-cbbe-6a7b749ffdd2"
      },
      "source": [
        "n=int(input(\"Enter a number : \"))\n",
        "if(n%2==0):\n",
        "  print(\"The number entered by the user is an even number\")\n",
        "else:\n",
        "  print(\"The number entered by the user is an odd number \")"
      ],
      "execution_count": null,
      "outputs": [
        {
          "output_type": "stream",
          "name": "stdout",
          "text": [
            "Enter a number : 100\n",
            "The number entered by the user is an even number\n"
          ]
        }
      ]
    },
    {
      "cell_type": "markdown",
      "metadata": {
        "id": "5yVXPEjuVQsR"
      },
      "source": [
        "Number Greater Than or Less Than"
      ]
    },
    {
      "cell_type": "code",
      "metadata": {
        "colab": {
          "base_uri": "https://localhost:8080/"
        },
        "id": "xMkh-WwMCE1p",
        "outputId": "5670bb78-01c6-4e75-95d2-e11864c15b73"
      },
      "source": [
        "a=int(input(\"enter value of a : \"))\n",
        "b=int(input(\"enter value of b : \"))\n",
        "if(a>b):\n",
        "  print(\"a is greater than b\")\n",
        "else:\n",
        "  print(\"a is less than b\")"
      ],
      "execution_count": 1,
      "outputs": [
        {
          "output_type": "stream",
          "name": "stdout",
          "text": [
            "enter value of a : 100\n",
            "enter value of b : 50\n",
            "a is greater than b\n"
          ]
        }
      ]
    },
    {
      "cell_type": "markdown",
      "metadata": {
        "id": "v_5M1MSJVViw"
      },
      "source": [
        "Shopkepper gave discount on Quantity"
      ]
    },
    {
      "cell_type": "code",
      "metadata": {
        "id": "_5YPzo4NOwY-",
        "colab": {
          "base_uri": "https://localhost:8080/"
        },
        "outputId": "ee45f8a5-63c1-44e6-b1a6-23e01981cca7"
      },
      "source": [
        "\n",
        "qty=int(input(\"Enter the quantity : \"))\n",
        "amount=qty*100\n",
        "if amount>999:\n",
        "  print(\"Total cost is : \",amount-(amount*10/100))\n",
        "else:\n",
        "  print(\"Total cost is : \",amount)"
      ],
      "execution_count": 4,
      "outputs": [
        {
          "output_type": "stream",
          "name": "stdout",
          "text": [
            "Enter the quantity : 71\n",
            "Total cost is :  6390.0\n"
          ]
        }
      ]
    },
    {
      "cell_type": "markdown",
      "metadata": {
        "id": "YAojBPxtWSzg"
      },
      "source": [
        "School Grading Pattern"
      ]
    },
    {
      "cell_type": "code",
      "metadata": {
        "colab": {
          "base_uri": "https://localhost:8080/"
        },
        "id": "q0wjLJ5BV7yh",
        "outputId": "af685bb5-cf48-446c-83bf-9c8dc74a9a98"
      },
      "source": [
        "marks = int(input(\"Enter marks obtained : \"))\n",
        "if ((marks>=0) & (marks<25)):\n",
        "  print (\"Your grade is F\")\n",
        "elif ((marks>=25) & (marks<45)):\n",
        "  print (\"Your grade is E\")\n",
        "elif ((marks>=45) & (marks<50)):\n",
        "  print (\"Your grade is D\")\n",
        "elif ((marks>=50) & (marks<60)):\n",
        "  print (\"Your grade is C\")\n",
        "elif ((marks>=60) & (marks<80)):\n",
        "  print (\"Your grade is B\")\n",
        "elif (marks>=80):\n",
        "  print (\"Your grade is A\")\n",
        "else:\n",
        "  print (\"Please check the entries\")"
      ],
      "execution_count": 5,
      "outputs": [
        {
          "output_type": "stream",
          "name": "stdout",
          "text": [
            "Enter marks obtained : 21\n",
            "Your grade is F\n"
          ]
        }
      ]
    }
  ]
}